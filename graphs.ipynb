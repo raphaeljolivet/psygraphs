{
 "cells": [
  {
   "cell_type": "code",
   "id": "6d71514d-0ac0-4e90-874e-e294b0642baf",
   "metadata": {
    "ExecuteTime": {
     "end_time": "2025-08-08T16:57:48.721040Z",
     "start_time": "2025-08-08T16:57:48.717850Z"
    }
   },
   "source": [
    "import seaborn as sns\n",
    "import pandas as pd\n",
    "import matplotlib.pyplot as plt\n",
    "import numpy as np"
   ],
   "outputs": [],
   "execution_count": 2
  },
  {
   "cell_type": "code",
   "id": "47003465-152d-47c4-a5c7-bae767f750ae",
   "metadata": {
    "ExecuteTime": {
     "end_time": "2025-08-08T16:57:49.947328Z",
     "start_time": "2025-08-08T16:57:49.935109Z"
    }
   },
   "source": [
    "data = {\n",
    "    \"Comp. verbale\" : {\n",
    "        \"INF\" : 10,\n",
    "        \"SIM\" : 13,\n",
    "        \"VOC\" : 12,\n",
    "        \"COS\" : 15\n",
    "    },\n",
    "    \"Visuo-spatiale\" : {\n",
    "        \"CUB\" : 14,\n",
    "        \"AOB\" : 10\n",
    "    },\n",
    "    \"Rais. fluide\" : {\n",
    "        \"MAT\" : 7,\n",
    "        \"IDC\" : 10\n",
    "    },\n",
    "    \"Mém. de travail\" :{\n",
    "        \"REC\" : 10,\n",
    "        \"MSP\": 7\n",
    "    },\n",
    "    \"Vitesse trait.\" :{\n",
    "        \"SYM\": 7,\n",
    "        \"BAR\" : 4,\n",
    "        \"COD\" : 5\n",
    "    }\n",
    "}"
   ],
   "outputs": [],
   "execution_count": 3
  },
  {
   "cell_type": "code",
   "id": "7854321c-96b6-4d83-9c91-1aa627240136",
   "metadata": {
    "ExecuteTime": {
     "end_time": "2025-08-08T16:57:50.897930Z",
     "start_time": "2025-08-08T16:57:50.871804Z"
    }
   },
   "source": [
    "scores = pd.DataFrame.from_dict(data).stack().reset_index()\n",
    "scores.columns = ['indice', 'cat', 'score']\n",
    "scores = scores.set_index(['cat', 'indice'])\n",
    "scores[\"indice\"] = scores.index.get_level_values(\"indice\")\n",
    "scores"
   ],
   "outputs": [
    {
     "data": {
      "text/plain": [
       "                        score indice\n",
       "cat             indice              \n",
       "Comp. verbale   INF      10.0    INF\n",
       "                SIM      13.0    SIM\n",
       "                VOC      12.0    VOC\n",
       "                COS      15.0    COS\n",
       "Visuo-spatiale  CUB      14.0    CUB\n",
       "                AOB      10.0    AOB\n",
       "Rais. fluide    MAT       7.0    MAT\n",
       "                IDC      10.0    IDC\n",
       "Mém. de travail REC      10.0    REC\n",
       "                MSP       7.0    MSP\n",
       "Vitesse trait.  SYM       7.0    SYM\n",
       "                BAR       4.0    BAR\n",
       "                COD       5.0    COD"
      ],
      "text/html": [
       "<div>\n",
       "<style scoped>\n",
       "    .dataframe tbody tr th:only-of-type {\n",
       "        vertical-align: middle;\n",
       "    }\n",
       "\n",
       "    .dataframe tbody tr th {\n",
       "        vertical-align: top;\n",
       "    }\n",
       "\n",
       "    .dataframe thead th {\n",
       "        text-align: right;\n",
       "    }\n",
       "</style>\n",
       "<table border=\"1\" class=\"dataframe\">\n",
       "  <thead>\n",
       "    <tr style=\"text-align: right;\">\n",
       "      <th></th>\n",
       "      <th></th>\n",
       "      <th>score</th>\n",
       "      <th>indice</th>\n",
       "    </tr>\n",
       "    <tr>\n",
       "      <th>cat</th>\n",
       "      <th>indice</th>\n",
       "      <th></th>\n",
       "      <th></th>\n",
       "    </tr>\n",
       "  </thead>\n",
       "  <tbody>\n",
       "    <tr>\n",
       "      <th rowspan=\"4\" valign=\"top\">Comp. verbale</th>\n",
       "      <th>INF</th>\n",
       "      <td>10.0</td>\n",
       "      <td>INF</td>\n",
       "    </tr>\n",
       "    <tr>\n",
       "      <th>SIM</th>\n",
       "      <td>13.0</td>\n",
       "      <td>SIM</td>\n",
       "    </tr>\n",
       "    <tr>\n",
       "      <th>VOC</th>\n",
       "      <td>12.0</td>\n",
       "      <td>VOC</td>\n",
       "    </tr>\n",
       "    <tr>\n",
       "      <th>COS</th>\n",
       "      <td>15.0</td>\n",
       "      <td>COS</td>\n",
       "    </tr>\n",
       "    <tr>\n",
       "      <th rowspan=\"2\" valign=\"top\">Visuo-spatiale</th>\n",
       "      <th>CUB</th>\n",
       "      <td>14.0</td>\n",
       "      <td>CUB</td>\n",
       "    </tr>\n",
       "    <tr>\n",
       "      <th>AOB</th>\n",
       "      <td>10.0</td>\n",
       "      <td>AOB</td>\n",
       "    </tr>\n",
       "    <tr>\n",
       "      <th rowspan=\"2\" valign=\"top\">Rais. fluide</th>\n",
       "      <th>MAT</th>\n",
       "      <td>7.0</td>\n",
       "      <td>MAT</td>\n",
       "    </tr>\n",
       "    <tr>\n",
       "      <th>IDC</th>\n",
       "      <td>10.0</td>\n",
       "      <td>IDC</td>\n",
       "    </tr>\n",
       "    <tr>\n",
       "      <th rowspan=\"2\" valign=\"top\">Mém. de travail</th>\n",
       "      <th>REC</th>\n",
       "      <td>10.0</td>\n",
       "      <td>REC</td>\n",
       "    </tr>\n",
       "    <tr>\n",
       "      <th>MSP</th>\n",
       "      <td>7.0</td>\n",
       "      <td>MSP</td>\n",
       "    </tr>\n",
       "    <tr>\n",
       "      <th rowspan=\"3\" valign=\"top\">Vitesse trait.</th>\n",
       "      <th>SYM</th>\n",
       "      <td>7.0</td>\n",
       "      <td>SYM</td>\n",
       "    </tr>\n",
       "    <tr>\n",
       "      <th>BAR</th>\n",
       "      <td>4.0</td>\n",
       "      <td>BAR</td>\n",
       "    </tr>\n",
       "    <tr>\n",
       "      <th>COD</th>\n",
       "      <td>5.0</td>\n",
       "      <td>COD</td>\n",
       "    </tr>\n",
       "  </tbody>\n",
       "</table>\n",
       "</div>"
      ]
     },
     "execution_count": 4,
     "metadata": {},
     "output_type": "execute_result"
    }
   ],
   "execution_count": 4
  },
  {
   "cell_type": "code",
   "id": "5e1f93ae-73f1-46e9-904d-9001417d7995",
   "metadata": {
    "ExecuteTime": {
     "end_time": "2025-08-08T16:57:52.127502Z",
     "start_time": "2025-08-08T16:57:52.123154Z"
    }
   },
   "source": [
    "scores.score.values"
   ],
   "outputs": [
    {
     "data": {
      "text/plain": [
       "array([10., 13., 12., 15., 14., 10.,  7., 10., 10.,  7.,  7.,  4.,  5.])"
      ]
     },
     "execution_count": 5,
     "metadata": {},
     "output_type": "execute_result"
    }
   ],
   "execution_count": 5
  },
  {
   "cell_type": "code",
   "id": "64d23612-a81f-40d3-be94-5cc1a9631519",
   "metadata": {
    "ExecuteTime": {
     "end_time": "2025-08-08T16:57:52.848083Z",
     "start_time": "2025-08-08T16:57:52.841030Z"
    }
   },
   "source": [],
   "outputs": [],
   "execution_count": null
  },
  {
   "cell_type": "code",
   "id": "21f474c8-de85-4318-87c7-92dfc424e9fd",
   "metadata": {
    "ExecuteTime": {
     "end_time": "2025-08-08T16:57:57.386358Z",
     "start_time": "2025-08-08T16:57:57.376633Z"
    }
   },
   "source": [
    "def plot(scores) :\n",
    "    \n",
    "    # Créer le graphique\n",
    "    fig, ax = plt.subplots(figsize=(8, 5), layout=\"constrained\")\n",
    "    \n",
    "    \n",
    "    # Références horizontales\n",
    "    for y, color in zip([4, 7, 10, 13, 16], [\"orange\", \"blue\", \"red\", \"blue\", \"orange\"]):\n",
    "        ax.axhline(y, color=color, linewidth=1.5, linestyle=\"-\", zorder=0)\n",
    "    \n",
    "    # Barres\n",
    "    b = sns.barplot(data=scores, x=\"indice\", y='score', hue='cat', palette='Set2', ax=ax, width=0.5)\n",
    "    b.legend_.remove()\n",
    "    \n",
    "    # Axe principal (labels des tests)\n",
    "    x = np.arange(len(scores))\n",
    "    ax.set_xticks(x)\n",
    "    ax.set_xticklabels(scores.index.get_level_values(\"indice\"), rotation=0)\n",
    "    ax.set_ylim(1, 19)\n",
    "    ax.set_ylabel(\"Notes\")\n",
    "    \n",
    "    # Afficher les scores sous les barres\n",
    "    for i, score in enumerate(scores.score.values):\n",
    "        ax.text(i, score + 0.3, str(int(score)), ha='center', va='bottom', fontsize=9)\n",
    "    \n",
    "    # Axe secondaire pour les catégories\n",
    "    sec = ax.secondary_xaxis(location=0)\n",
    "    group_labels = []\n",
    "    group_centers = []\n",
    "    current_group = None\n",
    "    start = 0\n",
    "    \n",
    "    # Calcul des centres pour les groupes\n",
    "    for i, (cat, _) in enumerate(scores.index):\n",
    "        if cat != current_group:\n",
    "            if current_group is not None:\n",
    "                center = (start + i - 1) / 2\n",
    "                group_centers.append(center)\n",
    "                group_labels.append(current_group)\n",
    "            current_group = cat\n",
    "            start = i\n",
    "    # Ajouter le dernier groupe\n",
    "    center = (start + len(scores) - 1) / 2\n",
    "    group_centers.append(center)\n",
    "    group_labels.append(current_group)\n",
    "    \n",
    "    sec.set_xticks(group_centers)\n",
    "    sec.set_xticklabels([\"\\n\\n\" + label for label in group_labels])\n",
    "    sec.tick_params('x', length=0)\n",
    "    \n",
    "    # Axe secondaire pour lignes séparatrices\n",
    "    sec2 = ax.secondary_xaxis(location=0)\n",
    "    boundaries = [-0.5]\n",
    "    for i in range(1, len(scores)):\n",
    "        if scores.index[i][0] != scores.index[i - 1][0]:\n",
    "            boundaries.append(i - 0.5)\n",
    "    boundaries.append(len(scores) - 0.5)\n",
    "    \n",
    "    sec2.set_xticks(boundaries)\n",
    "    sec2.set_xticklabels([])\n",
    "    sec2.tick_params('x', length=30, width=1.5)\n",
    "    ax.set_xlim(-0.6, len(scores) - 0.4)\n",
    "    \n",
    "    plt.title(\"Profil des notes standard\")\n",
    "    plt.xlabel('')\n",
    "    plt.show()"
   ],
   "outputs": [],
   "execution_count": 6
  },
  {
   "cell_type": "code",
   "id": "6e92c580-2ae3-4294-a9b2-e666ad4a332b",
   "metadata": {
    "ExecuteTime": {
     "end_time": "2025-08-08T16:57:58.392605Z",
     "start_time": "2025-08-08T16:57:57.906970Z"
    }
   },
   "source": [
    "plot(scores)"
   ],
   "outputs": [
    {
     "ename": "NameError",
     "evalue": "name 'df' is not defined",
     "output_type": "error",
     "traceback": [
      "\u001B[0;31m---------------------------------------------------------------------------\u001B[0m",
      "\u001B[0;31mNameError\u001B[0m                                 Traceback (most recent call last)",
      "Cell \u001B[0;32mIn[7], line 1\u001B[0m\n\u001B[0;32m----> 1\u001B[0m \u001B[43mplot\u001B[49m\u001B[43m(\u001B[49m\u001B[43mscores\u001B[49m\u001B[43m)\u001B[49m\n",
      "Cell \u001B[0;32mIn[6], line 12\u001B[0m, in \u001B[0;36mplot\u001B[0;34m(scores)\u001B[0m\n\u001B[1;32m      9\u001B[0m     ax\u001B[38;5;241m.\u001B[39maxhline(y, color\u001B[38;5;241m=\u001B[39mcolor, linewidth\u001B[38;5;241m=\u001B[39m\u001B[38;5;241m1.5\u001B[39m, linestyle\u001B[38;5;241m=\u001B[39m\u001B[38;5;124m\"\u001B[39m\u001B[38;5;124m-\u001B[39m\u001B[38;5;124m\"\u001B[39m, zorder\u001B[38;5;241m=\u001B[39m\u001B[38;5;241m0\u001B[39m)\n\u001B[1;32m     11\u001B[0m \u001B[38;5;66;03m# Barres\u001B[39;00m\n\u001B[0;32m---> 12\u001B[0m b \u001B[38;5;241m=\u001B[39m sns\u001B[38;5;241m.\u001B[39mbarplot(data\u001B[38;5;241m=\u001B[39m\u001B[43mdf\u001B[49m, x\u001B[38;5;241m=\u001B[39m\u001B[38;5;124m\"\u001B[39m\u001B[38;5;124mindice\u001B[39m\u001B[38;5;124m\"\u001B[39m, y\u001B[38;5;241m=\u001B[39m\u001B[38;5;124m'\u001B[39m\u001B[38;5;124mscore\u001B[39m\u001B[38;5;124m'\u001B[39m, hue\u001B[38;5;241m=\u001B[39m\u001B[38;5;124m'\u001B[39m\u001B[38;5;124mcat\u001B[39m\u001B[38;5;124m'\u001B[39m, palette\u001B[38;5;241m=\u001B[39m\u001B[38;5;124m'\u001B[39m\u001B[38;5;124mSet2\u001B[39m\u001B[38;5;124m'\u001B[39m, ax\u001B[38;5;241m=\u001B[39max, width\u001B[38;5;241m=\u001B[39m\u001B[38;5;241m0.5\u001B[39m)\n\u001B[1;32m     13\u001B[0m b\u001B[38;5;241m.\u001B[39mlegend_\u001B[38;5;241m.\u001B[39mremove()\n\u001B[1;32m     15\u001B[0m \u001B[38;5;66;03m# Axe principal (labels des tests)\u001B[39;00m\n",
      "\u001B[0;31mNameError\u001B[0m: name 'df' is not defined"
     ]
    },
    {
     "data": {
      "text/plain": [
       "<Figure size 800x500 with 1 Axes>"
      ],
      "image/png": "[encoded data removed]"
     },
     "metadata": {},
     "output_type": "display_data"
    }
   ],
   "execution_count": 7
  },
  {
   "cell_type": "code",
   "execution_count": null,
   "id": "b7420ceb-eed7-4575-8cb6-455b5cb48567",
   "metadata": {},
   "outputs": [],
   "source": []
  }
 ],
 "metadata": {
  "kernelspec": {
   "display_name": "Python 3 (ipykernel)",
   "language": "python",
   "name": "python3"
  },
  "language_info": {
   "codemirror_mode": {
    "name": "ipython",
    "version": 3
   },
   "file_extension": ".py",
   "mimetype": "text/x-python",
   "name": "python",
   "nbconvert_exporter": "python",
   "pygments_lexer": "ipython3",
   "version": "3.10.12"
  },
  "widgets": {
   "application/vnd.jupyter.widget-state+json": {
    "state": {},
    "version_major": 2,
    "version_minor": 0
   }
  }
 },
 "nbformat": 4,
 "nbformat_minor": 5
}
